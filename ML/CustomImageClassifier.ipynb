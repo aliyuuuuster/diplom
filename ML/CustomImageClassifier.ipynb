{
 "cells": [
  {
   "cell_type": "code",
   "execution_count": 1,
   "id": "db6c8483",
   "metadata": {},
   "outputs": [
    {
     "name": "stdout",
     "output_type": "stream",
     "text": [
      "Collecting matplotlib\n",
      "\u001b[?25l  Downloading https://files.pythonhosted.org/packages/bb/eb/fb97c7c75755edf10128ae3f06ba15ffb97b852740ef9311f20113f018eb/matplotlib-3.5.1-cp37-cp37m-manylinux_2_5_x86_64.manylinux1_x86_64.whl (11.2MB)\n",
      "\u001b[K     |████████████████████████████████| 11.2MB 910kB/s eta 0:00:01\n",
      "\u001b[?25hRequirement already satisfied: numpy in /opt/conda/lib/python3.7/site-packages (1.17.4)\n",
      "Requirement already satisfied: torch in /opt/conda/lib/python3.7/site-packages (1.4.0)\n",
      "Requirement already satisfied: torchvision in /opt/conda/lib/python3.7/site-packages (0.5.0)\n",
      "Collecting cycler>=0.10\n",
      "  Downloading https://files.pythonhosted.org/packages/5c/f9/695d6bedebd747e5eb0fe8fad57b72fdf25411273a39791cde838d5a8f51/cycler-0.11.0-py3-none-any.whl\n",
      "Requirement already satisfied: packaging>=20.0 in /opt/conda/lib/python3.7/site-packages (from matplotlib) (21.3)\n",
      "Collecting kiwisolver>=1.0.1\n",
      "\u001b[?25l  Downloading https://files.pythonhosted.org/packages/51/50/9a9a94afa26c50fc5d9127272737806990aa698c7a1c220b8e5075e70304/kiwisolver-1.4.2-cp37-cp37m-manylinux_2_5_x86_64.manylinux1_x86_64.whl (1.1MB)\n",
      "\u001b[K     |████████████████████████████████| 1.1MB 11.7MB/s eta 0:00:01\n",
      "\u001b[?25hRequirement already satisfied: python-dateutil>=2.7 in /opt/conda/lib/python3.7/site-packages (from matplotlib) (2.8.2)\n",
      "Requirement already satisfied: pyparsing>=2.2.1 in /opt/conda/lib/python3.7/site-packages (from matplotlib) (3.0.8)\n",
      "Requirement already satisfied: pillow>=6.2.0 in /opt/conda/lib/python3.7/site-packages (from matplotlib) (7.0.0)\n",
      "Collecting fonttools>=4.22.0\n",
      "\u001b[?25l  Downloading https://files.pythonhosted.org/packages/df/d7/7f4d2a6b8f8433172ce245c08fac6f143034f184e6d682d748a7c1c6cbb1/fonttools-4.33.2-py3-none-any.whl (930kB)\n",
      "\u001b[K     |████████████████████████████████| 931kB 11.3MB/s eta 0:00:01\n",
      "\u001b[?25hRequirement already satisfied: six in /opt/conda/lib/python3.7/site-packages (from torchvision) (1.12.0)\n",
      "Requirement already satisfied: typing-extensions; python_version < \"3.8\" in /opt/conda/lib/python3.7/site-packages (from kiwisolver>=1.0.1->matplotlib) (4.2.0)\n",
      "Installing collected packages: cycler, kiwisolver, fonttools, matplotlib\n",
      "Successfully installed cycler-0.11.0 fonttools-4.33.2 kiwisolver-1.4.2 matplotlib-3.5.1\n"
     ]
    }
   ],
   "source": [
    "!pip install matplotlib numpy torch torchvision"
   ]
  },
  {
   "cell_type": "code",
   "execution_count": 1,
   "id": "distant-license",
   "metadata": {},
   "outputs": [],
   "source": [
    "%matplotlib inline\n",
    "%config InlineBackend.figure_format = 'retina'\n",
    "import matplotlib.pyplot as plt\n",
    "import numpy as np\n",
    "import torch\n",
    "from torch import nn\n",
    "from torch import optim\n",
    "import torch.nn.functional as F\n",
    "from torchvision import datasets, transforms, models\n",
    "import json"
   ]
  },
  {
   "cell_type": "code",
   "execution_count": 2,
   "id": "2c059319",
   "metadata": {},
   "outputs": [],
   "source": [
    "from fastai.vision.all import *"
   ]
  },
  {
   "cell_type": "code",
   "execution_count": 37,
   "id": "demanding-welding",
   "metadata": {},
   "outputs": [],
   "source": [
    "from sklearn.model_selection import train_test_split\n",
    "\n",
    "class InvertImage(Transform):\n",
    "        \n",
    "    def encodes(self, img: PILImage):\n",
    "        np_img = np.array(img)\n",
    "        aug_img = A.transforms.InvertImg(p=1)(image=np_img)['image']\n",
    "        return PILImage.create(aug_img)\n",
    "\n",
    "def load_split_train_test(datadir, valid_size = .1):\n",
    "    train_transforms = transforms.Compose([#transforms.CenterCrop(224),\n",
    "                                           #InvertImage(),\n",
    "                                           Normalize.from_stats(*imagenet_stats),\n",
    "                                           transforms.Resize(224),\n",
    "                                       transforms.ToTensor(),\n",
    "                                       ])\n",
    "    test_transforms = transforms.Compose([#transforms.CenterCrop(224),\n",
    "                                          #InvertImage(),\n",
    "                                          Normalize.from_stats(*imagenet_stats),\n",
    "                                          transforms.Resize(224),\n",
    "                                      transforms.ToTensor(),\n",
    "                                      ])\n",
    "    train_data = datasets.ImageFolder(datadir,       \n",
    "                    transform=train_transforms)\n",
    "    test_data = datasets.ImageFolder(datadir,\n",
    "                    transform=test_transforms)\n",
    "    \n",
    "    targets = train_data.targets\n",
    "    train_idx, test_idx= train_test_split(\n",
    "        np.arange(len(targets)),\n",
    "        test_size=0.2,\n",
    "        shuffle=True,\n",
    "        stratify=targets)\n",
    "    \n",
    "    from torch.utils.data.sampler import SubsetRandomSampler\n",
    "    \n",
    "    train_sampler = SubsetRandomSampler(train_idx)\n",
    "    test_sampler = SubsetRandomSampler(test_idx)\n",
    "    \n",
    "    trainloader = torch.utils.data.DataLoader(train_data,\n",
    "                   sampler=train_sampler, batch_size=256)\n",
    "    \n",
    "    testloader = torch.utils.data.DataLoader(test_data,\n",
    "                   sampler=test_sampler, batch_size=256)\n",
    "    \n",
    "    return trainloader, testloader"
   ]
  },
  {
   "cell_type": "code",
   "execution_count": 38,
   "id": "2f466055",
   "metadata": {},
   "outputs": [],
   "source": [
    "def train_model(model, trainloader, testloader, device):\n",
    "    \n",
    "    for param in model.parameters():\n",
    "        param.requires_grad = False\n",
    "\n",
    "    for param in model.layer4.parameters():\n",
    "        param.requires_grad = True\n",
    "    \n",
    "    for param in model.fc.parameters():\n",
    "        param.requires_grad = True    \n",
    "\n",
    "    criterion = nn.NLLLoss()\n",
    "    train_params = list(model.fc.parameters())\n",
    "    train_params += list(model.layer4.parameters())\n",
    "    optimizer = optim.Adam(train_params, lr=0.00005)\n",
    "    model = model.to(device)\n",
    "\n",
    "    epochs = 10\n",
    "    steps = 0\n",
    "    running_loss = 0\n",
    "    print_every = 30\n",
    "    train_losses, test_losses = [], []\n",
    "    model.train()\n",
    "    for epoch in range(epochs):\n",
    "        for inputs, labels in trainloader:\n",
    "            steps += 1\n",
    "            inputs, labels = inputs.to(device), labels.to(device)\n",
    "            optimizer.zero_grad()\n",
    "            logps = model.forward(inputs)\n",
    "            loss = criterion(logps, labels)\n",
    "            loss.backward()\n",
    "            optimizer.step()\n",
    "            running_loss += loss.item()\n",
    "        \n",
    "            if steps % print_every == 0:\n",
    "                test_loss = 0\n",
    "                accuracy = 0\n",
    "                model.eval()\n",
    "                with torch.no_grad():\n",
    "                    for inputs, labels in testloader:\n",
    "                        inputs, labels = inputs.to(device), labels.to(device)\n",
    "                        logps = model.forward(inputs)\n",
    "                        batch_loss = criterion(logps, labels)\n",
    "                        test_loss += batch_loss.item()\n",
    "                    \n",
    "                        ps = torch.exp(logps)\n",
    "                        top_p, top_class = ps.topk(1, dim=1)\n",
    "                        equals = top_class == labels.view(*top_class.shape)\n",
    "                        accuracy += torch.mean(equals.type(torch.FloatTensor)).item()\n",
    "                train_losses.append(running_loss/len(trainloader))\n",
    "                test_losses.append(test_loss/len(testloader))                    \n",
    "                print(f\"Epoch {epoch+1}/{epochs}.. \"\n",
    "                      f\"Train loss: {running_loss/print_every:.3f}.. \"\n",
    "                      f\"Test loss: {test_loss/len(testloader):.3f}.. \"\n",
    "                      f\"Test accuracy: {accuracy/len(testloader):.3f}\")\n",
    "                running_loss = 0\n",
    "                model.train()\n",
    "    return model"
   ]
  },
  {
   "cell_type": "code",
   "execution_count": 39,
   "id": "140f884b",
   "metadata": {},
   "outputs": [],
   "source": [
    "def get_model():\n",
    "    device = torch.device(\"cuda\" if torch.cuda.is_available() else \"cpu\")\n",
    "    model = models.resnet152(pretrained=True)\n",
    "    \n",
    "    model.fc = nn.Sequential(\n",
    "                                 nn.Dropout(0.1),\n",
    "                                 nn.Linear(2048, 256),\n",
    "                                 nn.ReLU(),\n",
    "                                 nn.Dropout(0.2),\n",
    "                                 nn.Linear(256, 22),\n",
    "                                 nn.LogSoftmax(dim=1))\n",
    "    return model, device"
   ]
  },
  {
   "cell_type": "code",
   "execution_count": 40,
   "id": "environmental-closing",
   "metadata": {
    "scrolled": false
   },
   "outputs": [
    {
     "name": "stdout",
     "output_type": "stream",
     "text": [
      "Epoch 1/10.. Train loss: 2.654.. Test loss: 2.374.. Test accuracy: 0.457\n",
      "Epoch 1/10.. Train loss: 1.754.. Test loss: 1.586.. Test accuracy: 0.571\n",
      "Epoch 2/10.. Train loss: 1.228.. Test loss: 1.145.. Test accuracy: 0.666\n",
      "Epoch 2/10.. Train loss: 0.988.. Test loss: 0.930.. Test accuracy: 0.723\n",
      "Epoch 3/10.. Train loss: 0.786.. Test loss: 0.814.. Test accuracy: 0.751\n",
      "Epoch 3/10.. Train loss: 0.658.. Test loss: 0.743.. Test accuracy: 0.774\n",
      "Epoch 4/10.. Train loss: 0.506.. Test loss: 0.712.. Test accuracy: 0.784\n",
      "Epoch 4/10.. Train loss: 0.440.. Test loss: 0.684.. Test accuracy: 0.795\n",
      "Epoch 5/10.. Train loss: 0.342.. Test loss: 0.690.. Test accuracy: 0.796\n"
     ]
    },
    {
     "ename": "KeyboardInterrupt",
     "evalue": "",
     "output_type": "error",
     "traceback": [
      "\u001b[0;31m---------------------------------------------------------------------------\u001b[0m",
      "\u001b[0;31mKeyboardInterrupt\u001b[0m                         Traceback (most recent call last)",
      "\u001b[0;32m/tmp/ipykernel_1126/3869849839.py\u001b[0m in \u001b[0;36m<module>\u001b[0;34m\u001b[0m\n\u001b[1;32m      6\u001b[0m \u001b[0;34m\u001b[0m\u001b[0m\n\u001b[1;32m      7\u001b[0m \u001b[0mmodel\u001b[0m\u001b[0;34m,\u001b[0m \u001b[0mdevice\u001b[0m \u001b[0;34m=\u001b[0m \u001b[0mget_model\u001b[0m\u001b[0;34m(\u001b[0m\u001b[0;34m)\u001b[0m\u001b[0;34m\u001b[0m\u001b[0;34m\u001b[0m\u001b[0m\n\u001b[0;32m----> 8\u001b[0;31m \u001b[0mmodel\u001b[0m \u001b[0;34m=\u001b[0m \u001b[0mtrain_model\u001b[0m\u001b[0;34m(\u001b[0m\u001b[0mmodel\u001b[0m\u001b[0;34m,\u001b[0m \u001b[0mtrainloader\u001b[0m\u001b[0;34m,\u001b[0m \u001b[0mtestloader\u001b[0m\u001b[0;34m,\u001b[0m \u001b[0mdevice\u001b[0m\u001b[0;34m)\u001b[0m\u001b[0;34m\u001b[0m\u001b[0;34m\u001b[0m\u001b[0m\n\u001b[0m\u001b[1;32m      9\u001b[0m \u001b[0mtorch\u001b[0m\u001b[0;34m.\u001b[0m\u001b[0msave\u001b[0m\u001b[0;34m(\u001b[0m\u001b[0mmodel\u001b[0m\u001b[0;34m,\u001b[0m \u001b[0;34m'models/resnet152/model.pth'\u001b[0m\u001b[0;34m)\u001b[0m\u001b[0;34m\u001b[0m\u001b[0;34m\u001b[0m\u001b[0m\n",
      "\u001b[0;32m/tmp/ipykernel_1126/3327559888.py\u001b[0m in \u001b[0;36mtrain_model\u001b[0;34m(model, trainloader, testloader, device)\u001b[0m\n\u001b[1;32m     42\u001b[0m                         \u001b[0mlogps\u001b[0m \u001b[0;34m=\u001b[0m \u001b[0mmodel\u001b[0m\u001b[0;34m.\u001b[0m\u001b[0mforward\u001b[0m\u001b[0;34m(\u001b[0m\u001b[0minputs\u001b[0m\u001b[0;34m)\u001b[0m\u001b[0;34m\u001b[0m\u001b[0;34m\u001b[0m\u001b[0m\n\u001b[1;32m     43\u001b[0m                         \u001b[0mbatch_loss\u001b[0m \u001b[0;34m=\u001b[0m \u001b[0mcriterion\u001b[0m\u001b[0;34m(\u001b[0m\u001b[0mlogps\u001b[0m\u001b[0;34m,\u001b[0m \u001b[0mlabels\u001b[0m\u001b[0;34m)\u001b[0m\u001b[0;34m\u001b[0m\u001b[0;34m\u001b[0m\u001b[0m\n\u001b[0;32m---> 44\u001b[0;31m                         \u001b[0mtest_loss\u001b[0m \u001b[0;34m+=\u001b[0m \u001b[0mbatch_loss\u001b[0m\u001b[0;34m.\u001b[0m\u001b[0mitem\u001b[0m\u001b[0;34m(\u001b[0m\u001b[0;34m)\u001b[0m\u001b[0;34m\u001b[0m\u001b[0;34m\u001b[0m\u001b[0m\n\u001b[0m\u001b[1;32m     45\u001b[0m \u001b[0;34m\u001b[0m\u001b[0m\n\u001b[1;32m     46\u001b[0m                         \u001b[0mps\u001b[0m \u001b[0;34m=\u001b[0m \u001b[0mtorch\u001b[0m\u001b[0;34m.\u001b[0m\u001b[0mexp\u001b[0m\u001b[0;34m(\u001b[0m\u001b[0mlogps\u001b[0m\u001b[0;34m)\u001b[0m\u001b[0;34m\u001b[0m\u001b[0;34m\u001b[0m\u001b[0m\n",
      "\u001b[0;31mKeyboardInterrupt\u001b[0m: "
     ]
    }
   ],
   "source": [
    "import json\n",
    "data_dir = 'data'\n",
    "trainloader, testloader = load_split_train_test(data_dir, .1)\n",
    "with open('models/resnet152/cls2idx.json', 'w', encoding='utf-8') as output_stream:\n",
    "    output_stream.write(json.dumps(trainloader.dataset.class_to_idx))\n",
    "\n",
    "model, device = get_model()\n",
    "model = train_model(model, trainloader, testloader, device)\n",
    "torch.save(model, 'models/resnet152/model.pth')"
   ]
  },
  {
   "cell_type": "code",
   "execution_count": 11,
   "id": "normal-discount",
   "metadata": {},
   "outputs": [
    {
     "name": "stdout",
     "output_type": "stream",
     "text": [
      "Epoch 10/10.. Train loss: 0.023.. Test loss: 1.125.. Test accuracy: 0.768\n"
     ]
    }
   ],
   "source": [
    "test_loss = 0\n",
    "accuracy = 0\n",
    "model.eval()\n",
    "with torch.no_grad():\n",
    "    for inputs, labels in testloader:\n",
    "        inputs, labels = inputs.to(device), labels.to(device)\n",
    "        logps = model.forward(inputs)\n",
    "        batch_loss = criterion(logps, labels)\n",
    "        test_loss += batch_loss.item()\n",
    "                    \n",
    "        ps = torch.exp(logps)\n",
    "        top_p, top_class = ps.topk(1, dim=1)\n",
    "        equals = top_class == labels.view(*top_class.shape)\n",
    "        accuracy += torch.mean(equals.type(torch.FloatTensor)).item()\n",
    "train_losses.append(running_loss/len(trainloader))\n",
    "test_losses.append(test_loss/len(testloader))                    \n",
    "print(f\"Epoch {epoch+1}/{epochs}.. \"\n",
    "      f\"Train loss: {running_loss/print_every:.3f}.. \"\n",
    "      f\"Test loss: {test_loss/len(testloader):.3f}.. \"\n",
    "      f\"Test accuracy: {accuracy/len(testloader):.3f}\")"
   ]
  },
  {
   "cell_type": "code",
   "execution_count": null,
   "id": "ethical-exercise",
   "metadata": {},
   "outputs": [],
   "source": []
  },
  {
   "cell_type": "code",
   "execution_count": null,
   "id": "f0074146",
   "metadata": {},
   "outputs": [],
   "source": []
  },
  {
   "cell_type": "code",
   "execution_count": null,
   "id": "87b8f1ea",
   "metadata": {},
   "outputs": [],
   "source": []
  },
  {
   "cell_type": "code",
   "execution_count": null,
   "id": "d0b68403",
   "metadata": {},
   "outputs": [],
   "source": []
  }
 ],
 "metadata": {
  "kernelspec": {
   "display_name": "Python 3 (ipykernel)",
   "language": "python",
   "name": "python3"
  },
  "language_info": {
   "codemirror_mode": {
    "name": "ipython",
    "version": 3
   },
   "file_extension": ".py",
   "mimetype": "text/x-python",
   "name": "python",
   "nbconvert_exporter": "python",
   "pygments_lexer": "ipython3",
   "version": "3.7.4"
  }
 },
 "nbformat": 4,
 "nbformat_minor": 5
}
